{
 "cells": [
  {
   "cell_type": "code",
   "execution_count": 2,
   "metadata": {},
   "outputs": [],
   "source": [
    "import pandas as pd\n",
    "import numpy as np\n",
    "from sys import getsizeof"
   ]
  },
  {
   "cell_type": "code",
   "execution_count": 3,
   "metadata": {},
   "outputs": [
    {
     "name": "stderr",
     "output_type": "stream",
     "text": [
      "C:\\Users\\Tom\\AppData\\Local\\Programs\\Python\\Python39\\lib\\site-packages\\IPython\\core\\interactiveshell.py:3165: DtypeWarning: Columns (12) have mixed types.Specify dtype option on import or set low_memory=False.\n",
      "  has_raised = await self.run_ast_nodes(code_ast.body, cell_name,\n",
      "b'Skipping line 53073: expected 18 fields, saw 20\\n'\n",
      "C:\\Users\\Tom\\AppData\\Local\\Programs\\Python\\Python39\\lib\\site-packages\\IPython\\core\\interactiveshell.py:3165: DtypeWarning: Columns (2,5) have mixed types.Specify dtype option on import or set low_memory=False.\n",
      "  has_raised = await self.run_ast_nodes(code_ast.body, cell_name,\n",
      "b'Skipping line 8230: expected 16 fields, saw 29\\nSkipping line 16162: expected 16 fields, saw 29\\n'\n",
      "b'Skipping line 166744: expected 16 fields, saw 18\\n'\n",
      "b'Skipping line 395218: expected 16 fields, saw 17\\n'\n",
      "b'Skipping line 426092: expected 16 fields, saw 18\\nSkipping line 431009: expected 16 fields, saw 29\\n'\n",
      "b'Skipping line 524250: expected 16 fields, saw 27\\n'\n",
      "b'Skipping line 743795: expected 16 fields, saw 27\\n'\n",
      "b'Skipping line 760431: expected 16 fields, saw 27\\n'\n",
      "b'Skipping line 868086: expected 16 fields, saw 29\\n'\n",
      "b'Skipping line 1143326: expected 16 fields, saw 29\\n'\n",
      "b'Skipping line 1147743: expected 16 fields, saw 29\\n'\n",
      "b'Skipping line 1271485: expected 16 fields, saw 29\\n'\n",
      "b'Skipping line 1468794: expected 16 fields, saw 22\\n'\n",
      "b'Skipping line 1602946: expected 16 fields, saw 29\\n'\n",
      "b'Skipping line 1657428: expected 16 fields, saw 23\\n'\n",
      "C:\\Users\\Tom\\AppData\\Local\\Programs\\Python\\Python39\\lib\\site-packages\\IPython\\core\\interactiveshell.py:3165: DtypeWarning: Columns (3) have mixed types.Specify dtype option on import or set low_memory=False.\n",
      "  has_raised = await self.run_ast_nodes(code_ast.body, cell_name,\n"
     ]
    }
   ],
   "source": [
    "# Load data\n",
    "df_brand = pd.read_csv (r\"..\\GCD_2022\\GCD_BRAND_GROUP_DATA_TABLE.csv\", error_bad_lines=False)\n",
    "df_indicia = pd.read_csv (r\"..\\GCD_2022\\GCD_INDICIA_PUBLISHER_DATA_TABLE.csv\", error_bad_lines=False)\n",
    "df_issue = pd.read_csv (r\"..\\GCD_2022\\GCD_ISSUE_DATA_TABLE.csv\", error_bad_lines=False)\n",
    "df_issue_reprint = pd.read_csv (r\"..\\GCD_2022\\GCD_ISSUE_REPRINT_DATA_TABLE.csv\", error_bad_lines=False)\n",
    "df_publisher = pd.read_csv (r\"..\\GCD_2022\\GCD_PUBLISHER_DATA_TABLE.csv\", error_bad_lines=False)\n",
    "df_series = pd.read_csv (r\"..\\GCD_2022\\GCD_SERIES_DATA_TABLE.csv\", error_bad_lines=False)\n",
    "df_series_type = pd.read_csv (r\"..\\GCD_2022\\GCD_SERIES_PUBLICATION_TYPE_DATA_TABLE.csv\", error_bad_lines=False)\n",
    "df_story = pd.read_csv (r\"..\\GCD_2022\\GCD_STORY_DATA_TABLE.csv\", error_bad_lines=False)\n",
    "df_story_reprint = pd.read_csv (r\"..\\GCD_2022\\GCD_STORY_REPRINT_DATA_TABLE.csv\", error_bad_lines=False)\n",
    "df_story_type = pd.read_csv (r\"..\\GCD_2022\\GCD_STORY_TYPE_DATA_TABLE.csv\", error_bad_lines=False)\n",
    "df_country = pd.read_csv (r\"..\\GCD_2022\\STDDATA_COUNTRY_DATA_TABLE.csv\", error_bad_lines=False)\n",
    "df_language = pd.read_csv (r\"..\\GCD_2022\\STDDATA_LANGUAGE_DATA_TABLE.csv\", error_bad_lines=False)"
   ]
  },
  {
   "cell_type": "code",
   "execution_count": 9,
   "metadata": {},
   "outputs": [],
   "source": [
    "def utf8len(s):\n",
    "    if isinstance(s, str):\n",
    "        return len(s.encode('utf-8'))\n",
    "    else :\n",
    "        return 0"
   ]
  },
  {
   "cell_type": "code",
   "execution_count": 100,
   "metadata": {},
   "outputs": [
    {
     "name": "stdout",
     "output_type": "stream",
     "text": [
      "45\n",
      "56\n",
      "192\n",
      "112\n",
      "256\n",
      "32\n",
      "0\n",
      "38\n",
      "123\n",
      "10\n",
      "118\n"
     ]
    }
   ],
   "source": [
    "# Get size of Issue's attributes :\n",
    "print(max([utf8len(df_issue[\"MYNUMBER\"][i]) for i in range(df_issue.shape[0])]))\n",
    "print(max([utf8len(df_issue[\"PUBLICATION_DATE\"][i]) for i in range(df_issue.shape[0])]))\n",
    "print(max([utf8len(df_issue[\"PRICE\"][i]) for i in range(df_issue.shape[0])]))\n",
    "print(max([utf8len(df_issue[\"INDICIA_FREQUENCY\"][i]) for i in range(df_issue.shape[0])]))\n",
    "print(max([utf8len(df_issue[\"EDITING\"][i]) for i in range(df_issue.shape[0])]))\n",
    "print(max([utf8len(df_issue[\"ISBN\"][i]) for i in range(df_issue.shape[0])]))\n",
    "print(max([utf8len(df_issue[\"VALID_ISBN\"][i]) for i in range(df_issue.shape[0])]))\n",
    "print(max([utf8len(df_issue[\"BARCODE\"][i]) for i in range(df_issue.shape[0])]))\n",
    "print(max([utf8len(df_issue[\"TITLE\"][i]) for i in range(df_issue.shape[0])]))\n",
    "print(max([utf8len(df_issue[\"ON_SALE_DATE\"][i]) for i in range(df_issue.shape[0])]))\n",
    "print(max([utf8len(df_issue[\"RATING\"][i]) for i in range(df_issue.shape[0])]))\n"
   ]
  },
  {
   "cell_type": "code",
   "execution_count": 33,
   "metadata": {},
   "outputs": [
    {
     "name": "stdout",
     "output_type": "stream",
     "text": [
      "1.6 PLN (`6000 PLN before money redenomination)\n"
     ]
    }
   ],
   "source": [
    "print(df_issue[\"PRICE\"][691770])"
   ]
  },
  {
   "cell_type": "code",
   "execution_count": 97,
   "metadata": {},
   "outputs": [
    {
     "name": "stdout",
     "output_type": "stream",
     "text": [
      "133\n",
      "77\n",
      "137\n",
      "171\n",
      "117\n",
      "90\n",
      "92\n"
     ]
    }
   ],
   "source": [
    "# Get size of Series's attributes :\n",
    "print(max([utf8len(df_series[\"FORMAT\"][i]) for i in range(df_series.shape[0])]))\n",
    "print(max([utf8len(df_series[\"PUBLICATION_DATES\"][i]) for i in range(df_series.shape[0])]))\n",
    "print(max([utf8len(df_series[\"COLOR\"][i]) for i in range(df_series.shape[0])]))\n",
    "print(max([utf8len(df_series[\"DIMENSIONS\"][i]) for i in range(df_series.shape[0])]))\n",
    "print(max([utf8len(df_series[\"PAPER_STOCK\"][i]) for i in range(df_series.shape[0])]))\n",
    "print(max([utf8len(df_series[\"BINDING\"][i]) for i in range(df_series.shape[0])]))\n",
    "print(max([utf8len(df_series[\"PUBLISHING_FORMAT\"][i]) for i in range(df_series.shape[0])]))"
   ]
  },
  {
   "cell_type": "code",
   "execution_count": 94,
   "metadata": {},
   "outputs": [
    {
     "name": "stdout",
     "output_type": "stream",
     "text": [
      "78\n",
      "219\n",
      "152\n"
     ]
    }
   ],
   "source": [
    "# Get size of Brand_Group's attributes :\n",
    "print(max([utf8len(df_brand[\"NAME\"][i]) for i in range(df_brand.shape[0])]))\n",
    "print(max([utf8len(df_brand[\"NOTES\"][i]) for i in range(df_brand.shape[0])]))\n",
    "print(max([utf8len(df_brand[\"URL\"][i]) for i in range(df_brand.shape[0])]))\n"
   ]
  },
  {
   "cell_type": "code",
   "execution_count": 92,
   "metadata": {},
   "outputs": [
    {
     "name": "stdout",
     "output_type": "stream",
     "text": [
      "40\n"
     ]
    }
   ],
   "source": [
    "# Get size of Series_Publication_Type's attributes :\n",
    "print(max([utf8len(df_story_type[\"NAME\"][i]) for i in range(df_story_type.shape[0])]))"
   ]
  },
  {
   "cell_type": "code",
   "execution_count": 91,
   "metadata": {},
   "outputs": [
    {
     "name": "stdout",
     "output_type": "stream",
     "text": [
      "8\n"
     ]
    }
   ],
   "source": [
    "# Get size of Series_Publication_Type's attributes :\n",
    "print(max([utf8len(df_series_type[\"NAME\"][i]) for i in range(df_series_type.shape[0])]))"
   ]
  },
  {
   "cell_type": "code",
   "execution_count": 90,
   "metadata": {},
   "outputs": [
    {
     "name": "stdout",
     "output_type": "stream",
     "text": [
      "3\n",
      "27\n"
     ]
    }
   ],
   "source": [
    "# Get size of Language's attributes :\n",
    "print(max([utf8len(df_language[\"CODE\"][i]) for i in range(df_language.shape[0])]))\n",
    "print(max([utf8len(df_language[\"NAME\"][i]) for i in range(df_language.shape[0])]))"
   ]
  },
  {
   "cell_type": "code",
   "execution_count": 89,
   "metadata": {},
   "outputs": [
    {
     "name": "stdout",
     "output_type": "stream",
     "text": [
      "4\n",
      "36\n"
     ]
    }
   ],
   "source": [
    "# Get size of Country's attributes :\n",
    "print(max([utf8len(df_country[\"CODE\"][i]) for i in range(df_country.shape[0])]))\n",
    "print(max([utf8len(df_country[\"NAME\"][i]) for i in range(df_country.shape[0])]))"
   ]
  },
  {
   "cell_type": "code",
   "execution_count": 84,
   "metadata": {},
   "outputs": [
    {
     "name": "stdout",
     "output_type": "stream",
     "text": [
      "[3489, 5157, 5463, 7718, 8096, 8219, 9724, 10296, 11205, 11653, 11754, 11965, 13087, 22250, 22882, 24977, 25879, 27178, 27329, 28428, 33583, 37839, 38085, 40628, 41852, 43170, 44710, 46197, 46548, 47027, 47837, 50643, 55462, 64099, 69694, 72832, 78600, 79144, 89346, 102013, 108201, 111364, 113559, 120301, 147435, 147803, 148806, 153471, 156267, 159564, 162149, 165148, 165791, 167627, 169111, 171933, 175019, 181270, 207549, 207609, 232777, 244537, 261828, 261907, 273961, 274670, 280430, 285221, 310046, 311539, 315613, 316116, 316569, 316575, 317039, 317538, 317542, 318498, 320973, 321961, 321978, 321980, 322489, 322962, 323486, 324350, 345165, 347019, 355214, 358602, 358740, 363258, 365558, 365783, 365800, 366759, 373925, 374650, 375816, 376883, 378972, 405088, 406841, 407716, 414461, 414892, 417261, 418218, 418592, 427403, 428675, 429069, 432644, 445725, 446961, 447324, 454892, 459804, 459906, 461513, 461844, 463586, 465057, 466292, 472223, 474996, 476549, 483288, 490117, 490423, 491315, 491729, 493962, 495711, 497988, 498377, 498891, 506386, 511873, 512414, 513981, 517580, 531436, 536704, 540479, 550229, 552984, 557418, 559706, 560645, 564102, 564558, 565188, 572514, 573276, 575172, 575914, 576048, 577285, 579490, 586434, 590523, 603270, 603562, 610726, 610729, 613629, 615999, 623396, 624406, 626265, 626876, 633980, 637368, 639426, 642218, 646973, 649051, 651214, 654670, 658401, 663839, 664863, 668497, 672026, 682221, 683340, 684906, 689921, 704473, 712461, 716264, 734939, 735150, 737299, 737304, 737348, 739892, 740526, 740705, 740975, 746195, 746852, 749940, 763685, 766065, 766565, 768623, 771829, 775481, 776247, 778898, 781264, 784989, 785033, 785329, 786890, 789809, 795011, 797642, 799122, 807297, 809707, 812583, 822595, 826807, 828026, 833290, 837169, 840432, 852503, 854203, 859261, 863563, 874523, 876054, 877883, 880926, 882354, 885569, 886115, 886201, 886627, 887701, 888757, 894856, 896541, 898261, 902818, 903885, 905829, 906025, 909122, 911371, 912556, 923123, 928322, 928704, 930246, 935570, 938696, 940046, 941969, 944074, 944765, 945046, 945958, 946231, 950387, 954467, 958014, 961228, 962173, 962341, 967392, 968660, 971019, 971020, 971022, 971023, 971024, 971025, 971026, 971027, 971028, 971571, 971573, 971576, 971578, 971579, 971580, 971582, 972091, 973138, 979573, 987268, 993512, 995358, 996010, 996012, 996016, 997979, 1001538, 1001908, 1003876, 1006678, 1020757, 1031133, 1033948, 1035989, 1043505, 1044210, 1048977, 1051577, 1061762, 1063381, 1079689, 1085904, 1088060, 1089061, 1090649, 1093938, 1098956, 1099411, 1103979, 1131643, 1132084, 1132279, 1136237, 1137784, 1140554, 1143474, 1146048, 1146602, 1152930, 1154994, 1155863, 1159746, 1161140, 1163646, 1164121, 1167305, 1169625, 1171089, 1173672, 1173738, 1182742, 1183219, 1184846, 1186813, 1189460, 1191568, 1196054, 1198659, 1200163, 1204721, 1211876, 1214417, 1221015, 1221133, 1221651, 1221758, 1223347, 1225453, 1225908, 1230796, 1233596, 1236431, 1243152, 1243161, 1245467, 1247673, 1251169, 1253275, 1256709, 1257790, 1259839, 1260727, 1264322, 1264929, 1266823, 1271137, 1272333, 1272516, 1272667, 1273857, 1274245, 1275460, 1276235, 1279011, 1279120, 1279610, 1285543, 1285811, 1288417, 1293672, 1294530, 1294729, 1295781, 1300434, 1301825, 1303930, 1306369, 1309157, 1311003, 1312681, 1314557, 1315862, 1316971, 1321262, 1331758, 1332430, 1332672, 1334073, 1339483, 1339887, 1343072, 1345123, 1345486, 1348370, 1349333, 1349867, 1350312, 1353503, 1355870, 1358230, 1361745, 1365810, 1367091, 1368393, 1369479, 1376500, 1378338, 1378898, 1379329, 1383465, 1385295, 1394444, 1396167, 1402008, 1403316, 1405109, 1415292, 1415894, 1415904, 1415905, 1417674, 1418302, 1418853, 1426211, 1433358, 1435273, 1437899, 1443394, 1445692, 1455316, 1455751, 1460026, 1460689, 1464895, 1472384, 1474568, 1491557, 1491946, 1492094, 1493808, 1496056, 1496325, 1497747, 1501074, 1503934, 1506522, 1510130, 1511530, 1513799, 1514523, 1518060, 1518310, 1520305, 1526939, 1531809, 1533557, 1535739, 1541782, 1546078, 1547054, 1550560, 1553561, 1554141, 1560674, 1568257, 1569974, 1574340, 1576099, 1584202, 1584552, 1585791, 1592119, 1594006, 1596219, 1606621, 1607443, 1609304, 1609986, 1621972, 1622758, 1625925, 1626541, 1627045, 1627131, 1628655, 1629622, 1629878, 1630820, 1631857, 1635588, 1635591, 1635619, 1636342, 1636347, 1636568, 1637004, 1637010, 1637344, 1637613, 1637628, 1638330, 1638331, 1638335, 1639012, 1640228, 1640770, 1641033, 1642238, 1645515, 1645805, 1649460, 1651312, 1652079, 1654433, 1655080, 1655798, 1655859, 1656013, 1656389, 1657073, 1660451, 1661857, 1662072, 1662719, 1665154, 1667560, 1668290, 1668304, 1670473, 1670859, 1670871, 1672582, 1677977, 1690990, 1697179, 1697183, 1697791, 1698024, 1699123, 1699850, 1700384, 1709797, 1709798, 1710864, 1711411, 1719424, 1719474, 1722002, 1725521, 1727898, 1728019, 1730719, 1730766, 1730886, 1731229, 1731543, 1734023, 1735180, 1741079, 1741125, 1741709, 1742202, 1744028, 1744518, 1751222, 1754209, 1754364, 1754880, 1755510, 1758520, 1759372, 1760589, 1762085, 1763804, 1764647, 1765386, 1771759, 1772255, 1774005, 1776285, 1778360, 1779013, 1787574, 1788958, 1796610, 1797053, 1802242, 1803085, 1804408, 1806730, 1806873, 1807150, 1807605, 1807867, 1813227, 1813322, 1813984, 1814186, 1814674, 1815707, 1815855, 1816111, 1816860, 1817578, 1818673, 1824437, 1825061, 1825906, 1826657, 1827034, 1827289, 1827316, 1827956, 1829450, 1832073, 1835146, 1838043, 1839696, 1845839, 1846021, 1846110, 1846410, 1852139, 1859487, 1865896, 1866633, 1866844, 1868874]\n"
     ]
    }
   ],
   "source": [
    "print([i for i in range(df_story.shape[0]) if utf8len(df_story[\"TITLE\"][i]) >= 255])"
   ]
  },
  {
   "cell_type": "code",
   "execution_count": 80,
   "metadata": {},
   "outputs": [
    {
     "name": "stdout",
     "output_type": "stream",
     "text": [
      "[245521, 250456, 250977, 1171046]\n"
     ]
    }
   ],
   "source": [
    "print([i for i in range(df_story.shape[0]) if utf8len(df_story[\"TITLE\"][i]) == 254])"
   ]
  },
  {
   "cell_type": "code",
   "execution_count": 6,
   "metadata": {},
   "outputs": [
    {
     "name": "stdout",
     "output_type": "stream",
     "text": [
      "SIX: LIFE ISN'T PLEASANT PETRIFIED-THE PARTING OF THE WAYS-THE TROUBLE WITH MORTALS-DREAMINGS OF MEETING OR MEETINGS OF DREAMING?-THE TROUBLE WITH GODS-MERVYN SETS HIM STRAIGHT-\"HAVE YOU GOT ANYTHING WITH A HAPPY ENDING?\"-TEMPUS FRANGIT. [Brief Lives Par\n"
     ]
    }
   ],
   "source": [
    "print(df_story[\"TITLE\"][250456])"
   ]
  }
 ],
 "metadata": {
  "interpreter": {
   "hash": "c5b322d1f5beaecfb28b050f61b5bc2c682da0c88a01138942a1439f934c1c07"
  },
  "kernelspec": {
   "display_name": "Python 3.9.1 64-bit",
   "language": "python",
   "name": "python3"
  },
  "language_info": {
   "codemirror_mode": {
    "name": "ipython",
    "version": 3
   },
   "file_extension": ".py",
   "mimetype": "text/x-python",
   "name": "python",
   "nbconvert_exporter": "python",
   "pygments_lexer": "ipython3",
   "version": "3.9.1"
  },
  "orig_nbformat": 4
 },
 "nbformat": 4,
 "nbformat_minor": 2
}
