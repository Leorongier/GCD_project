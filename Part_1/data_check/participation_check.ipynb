{
 "cells": [
  {
   "cell_type": "code",
   "execution_count": 2,
   "metadata": {},
   "outputs": [],
   "source": [
    "import pandas as pd"
   ]
  },
  {
   "cell_type": "code",
   "execution_count": 3,
   "metadata": {},
   "outputs": [
    {
     "name": "stderr",
     "output_type": "stream",
     "text": [
      "C:\\Users\\Tom\\AppData\\Local\\Programs\\Python\\Python39\\lib\\site-packages\\IPython\\core\\interactiveshell.py:3165: DtypeWarning: Columns (12) have mixed types.Specify dtype option on import or set low_memory=False.\n",
      "  has_raised = await self.run_ast_nodes(code_ast.body, cell_name,\n",
      "b'Skipping line 53073: expected 18 fields, saw 20\\n'\n",
      "C:\\Users\\Tom\\AppData\\Local\\Programs\\Python\\Python39\\lib\\site-packages\\IPython\\core\\interactiveshell.py:3165: DtypeWarning: Columns (2,5) have mixed types.Specify dtype option on import or set low_memory=False.\n",
      "  has_raised = await self.run_ast_nodes(code_ast.body, cell_name,\n",
      "b'Skipping line 8230: expected 16 fields, saw 29\\nSkipping line 16162: expected 16 fields, saw 29\\n'\n",
      "b'Skipping line 166744: expected 16 fields, saw 18\\n'\n",
      "b'Skipping line 395218: expected 16 fields, saw 17\\n'\n",
      "b'Skipping line 426092: expected 16 fields, saw 18\\nSkipping line 431009: expected 16 fields, saw 29\\n'\n",
      "b'Skipping line 524250: expected 16 fields, saw 27\\n'\n",
      "b'Skipping line 743795: expected 16 fields, saw 27\\n'\n",
      "b'Skipping line 760431: expected 16 fields, saw 27\\n'\n",
      "b'Skipping line 868086: expected 16 fields, saw 29\\n'\n",
      "b'Skipping line 1143326: expected 16 fields, saw 29\\n'\n",
      "b'Skipping line 1147743: expected 16 fields, saw 29\\n'\n",
      "b'Skipping line 1271485: expected 16 fields, saw 29\\n'\n",
      "b'Skipping line 1468794: expected 16 fields, saw 22\\n'\n",
      "b'Skipping line 1602946: expected 16 fields, saw 29\\n'\n",
      "b'Skipping line 1657428: expected 16 fields, saw 23\\n'\n",
      "C:\\Users\\Tom\\AppData\\Local\\Programs\\Python\\Python39\\lib\\site-packages\\IPython\\core\\interactiveshell.py:3165: DtypeWarning: Columns (3) have mixed types.Specify dtype option on import or set low_memory=False.\n",
      "  has_raised = await self.run_ast_nodes(code_ast.body, cell_name,\n"
     ]
    }
   ],
   "source": [
    "# Load data\n",
    "df_brand = pd.read_csv (r\"..\\GCD_2022\\GCD_BRAND_GROUP_DATA_TABLE.csv\", error_bad_lines=False)\n",
    "df_indicia = pd.read_csv (r\"..\\GCD_2022\\GCD_INDICIA_PUBLISHER_DATA_TABLE.csv\", error_bad_lines=False)\n",
    "df_issue = pd.read_csv (r\"..\\GCD_2022\\GCD_ISSUE_DATA_TABLE.csv\", error_bad_lines=False)\n",
    "df_issue_reprint = pd.read_csv (r\"..\\GCD_2022\\GCD_ISSUE_REPRINT_DATA_TABLE.csv\", error_bad_lines=False)\n",
    "df_publisher = pd.read_csv (r\"..\\GCD_2022\\GCD_PUBLISHER_DATA_TABLE.csv\", error_bad_lines=False)\n",
    "df_series = pd.read_csv (r\"..\\GCD_2022\\GCD_SERIES_DATA_TABLE.csv\", error_bad_lines=False)\n",
    "df_series_type = pd.read_csv (r\"..\\GCD_2022\\GCD_SERIES_PUBLICATION_TYPE_DATA_TABLE.csv\", error_bad_lines=False)\n",
    "df_story = pd.read_csv (r\"..\\GCD_2022\\GCD_STORY_DATA_TABLE.csv\", error_bad_lines=False)\n",
    "df_story_reprint = pd.read_csv (r\"..\\GCD_2022\\GCD_STORY_REPRINT_DATA_TABLE.csv\", error_bad_lines=False)\n",
    "df_story_type = pd.read_csv (r\"..\\GCD_2022\\GCD_STORY_TYPE_DATA_TABLE.csv\", error_bad_lines=False)\n",
    "df_country = pd.read_csv (r\"..\\GCD_2022\\STDDATA_COUNTRY_DATA_TABLE.csv\", error_bad_lines=False)\n",
    "df_language = pd.read_csv (r\"..\\GCD_2022\\STDDATA_LANGUAGE_DATA_TABLE.csv\", error_bad_lines=False)"
   ]
  },
  {
   "cell_type": "code",
   "execution_count": 5,
   "metadata": {},
   "outputs": [
    {
     "name": "stdout",
     "output_type": "stream",
     "text": [
      "Index(['ID', 'TITLE', 'FEATURE', 'ISSUE_ID', 'SCRIPT', 'PENCILS', 'INKS',\n",
      "       'COLORS', 'LETTERS', 'EDITING', 'GENRE', 'CHARACTERS', 'SYNOPSIS',\n",
      "       'REPRINT_NOTES', 'NOTES', 'TYPE_ID'],\n",
      "      dtype='object')\n",
      "Index(['ID', 'MYNUMBER', 'SERIES_ID', 'INDICIA_PUBLISHER_ID',\n",
      "       'PUBLICATION_DATE', 'PRICE', 'PAGE_COUNT', 'INDICIA_FREQUENCY',\n",
      "       'EDITING', 'NOTES', 'ISBN', 'VALID_ISBN', 'BARCODE', 'TITLE',\n",
      "       'ON_SALE_DATE', 'RATING'],\n",
      "      dtype='object')\n",
      "853125\n",
      "144\n"
     ]
    }
   ],
   "source": [
    "# Check participation for \"issued_in\" relationship (Story <-> Issue) :\n",
    "print(df_story.columns)\n",
    "print(df_issue.columns)\n",
    "print((~df_issue[\"ID\"].isin(df_story[\"ISSUE_ID\"])).sum())\n",
    "print(df_story[\"ISSUE_ID\"].isnull().sum())"
   ]
  },
  {
   "cell_type": "code",
   "execution_count": 9,
   "metadata": {},
   "outputs": [
    {
     "name": "stdout",
     "output_type": "stream",
     "text": [
      "Index(['ID', 'NAME', 'FORMAT', 'YEAR_BEGAN', 'YEAR_ENDED', 'PUBLICATION_DATES',\n",
      "       'FIRST_ISSUE_ID', 'LAST_ISSUE_ID', 'PUBLISHER_ID', 'COUNTRY_ID',\n",
      "       'LANGUAGE_ID', 'NOTES', 'COLOR', 'DIMENSIONS', 'PAPER_STOCK', 'BINDING',\n",
      "       'PUBLISHING_FORMAT', 'PUBLICATION_TYPE_ID'],\n",
      "      dtype='object')\n",
      "1134\n",
      "79765\n"
     ]
    }
   ],
   "source": [
    "# Check participation for \"first_issue_of\" relationship (Series <-> Issue) :\n",
    "print(df_series.columns)\n",
    "print(df_series[\"FIRST_ISSUE_ID\"].isnull().sum())\n",
    "print(df_series.shape[0])"
   ]
  },
  {
   "cell_type": "code",
   "execution_count": 10,
   "metadata": {},
   "outputs": [
    {
     "name": "stdout",
     "output_type": "stream",
     "text": [
      "Index(['ID', 'NAME', 'FORMAT', 'YEAR_BEGAN', 'YEAR_ENDED', 'PUBLICATION_DATES',\n",
      "       'FIRST_ISSUE_ID', 'LAST_ISSUE_ID', 'PUBLISHER_ID', 'COUNTRY_ID',\n",
      "       'LANGUAGE_ID', 'NOTES', 'COLOR', 'DIMENSIONS', 'PAPER_STOCK', 'BINDING',\n",
      "       'PUBLISHING_FORMAT', 'PUBLICATION_TYPE_ID'],\n",
      "      dtype='object')\n",
      "1134\n",
      "79765\n"
     ]
    }
   ],
   "source": [
    "# Check participation for \"last_issue_of\" relationship (Series <-> Issue) :\n",
    "print(df_series.columns)\n",
    "print(df_series[\"LAST_ISSUE_ID\"].isnull().sum())\n",
    "print(df_series.shape[0])"
   ]
  },
  {
   "cell_type": "code",
   "execution_count": 2,
   "metadata": {},
   "outputs": [
    {
     "name": "stdout",
     "output_type": "stream",
     "text": [
      "Index(['ID', 'NAME', 'FORMAT', 'YEAR_BEGAN', 'YEAR_ENDED', 'PUBLICATION_DATES',\n",
      "       'FIRST_ISSUE_ID', 'LAST_ISSUE_ID', 'PUBLISHER_ID', 'COUNTRY_ID',\n",
      "       'LANGUAGE_ID', 'NOTES', 'COLOR', 'DIMENSIONS', 'PAPER_STOCK', 'BINDING',\n",
      "       'PUBLISHING_FORMAT', 'PUBLICATION_TYPE_ID'],\n",
      "      dtype='object')\n",
      "55114\n",
      "79765\n"
     ]
    }
   ],
   "source": [
    "# Check participation for \"series_of_type\" relationship (Series <-> Series_Publication_Type) :\n",
    "print(df_series.columns)\n",
    "print(df_series[\"PUBLICATION_TYPE_ID\"].isnull().sum())"
   ]
  },
  {
   "cell_type": "code",
   "execution_count": 4,
   "metadata": {},
   "outputs": [
    {
     "name": "stdout",
     "output_type": "stream",
     "text": [
      "Index(['ID', 'TITLE', 'FEATURE', 'ISSUE_ID', 'SCRIPT', 'PENCILS', 'INKS',\n",
      "       'COLORS', 'LETTERS', 'EDITING', 'GENRE', 'CHARACTERS', 'SYNOPSIS',\n",
      "       'REPRINT_NOTES', 'NOTES', 'TYPE_ID'],\n",
      "      dtype='object')\n",
      "166\n",
      "1869594\n"
     ]
    }
   ],
   "source": [
    "# Check participation for \"story_of_type\" relationship (Story <-> Story_Type) :\n",
    "print(df_story.columns)\n",
    "print(df_story[\"TYPE_ID\"].isnull().sum())"
   ]
  },
  {
   "cell_type": "code",
   "execution_count": 23,
   "metadata": {},
   "outputs": [
    {
     "name": "stdout",
     "output_type": "stream",
     "text": [
      "Index(['ID', 'NAME', 'FORMAT', 'YEAR_BEGAN', 'YEAR_ENDED', 'PUBLICATION_DATES',\n",
      "       'FIRST_ISSUE_ID', 'LAST_ISSUE_ID', 'PUBLISHER_ID', 'COUNTRY_ID',\n",
      "       'LANGUAGE_ID', 'NOTES', 'COLOR', 'DIMENSIONS', 'PAPER_STOCK', 'BINDING',\n",
      "       'PUBLISHING_FORMAT', 'PUBLICATION_TYPE_ID'],\n",
      "      dtype='object')\n",
      "0\n"
     ]
    }
   ],
   "source": [
    "# Check participation for \"written_in\" relationship (Series <-> Language) :\n",
    "print(df_series.columns)\n",
    "print(df_series[\"LANGUAGE_ID\"].isnull().sum())"
   ]
  },
  {
   "cell_type": "code",
   "execution_count": 11,
   "metadata": {},
   "outputs": [
    {
     "name": "stdout",
     "output_type": "stream",
     "text": [
      "Index(['ID', 'MYNUMBER', 'SERIES_ID', 'INDICIA_PUBLISHER_ID',\n",
      "       'PUBLICATION_DATE', 'PRICE', 'PAGE_COUNT', 'INDICIA_FREQUENCY',\n",
      "       'EDITING', 'NOTES', 'ISBN', 'VALID_ISBN', 'BARCODE', 'TITLE',\n",
      "       'ON_SALE_DATE', 'RATING'],\n",
      "      dtype='object')\n",
      "753494\n",
      "1257\n"
     ]
    }
   ],
   "source": [
    "# Check participation for \"published_by\" relationship (Issue <-> Indicia_Publisher) :\n",
    "print(df_issue.columns)\n",
    "print(df_issue[\"INDICIA_PUBLISHER_ID\"].isnull().sum())\n",
    "print((~df_indicia[\"ID\"].isin(df_issue[\"INDICIA_PUBLISHER_ID\"])).sum())"
   ]
  },
  {
   "cell_type": "code",
   "execution_count": 35,
   "metadata": {},
   "outputs": [
    {
     "name": "stdout",
     "output_type": "stream",
     "text": [
      "Index(['ID', 'NAME', 'PUBLISHER_ID', 'COUNTRY_ID', 'YEAR_BEGAN', 'YEAR_ENDED',\n",
      "       'IS_SURROGATE', 'NOTES', 'URL'],\n",
      "      dtype='object')\n",
      "0\n"
     ]
    }
   ],
   "source": [
    "# Check participation for \"indicia_from\" relationship (Indicia_Publisher <-> Country) :\n",
    "print(df_indicia.columns)\n",
    "print(df_indicia[\"COUNTRY_ID\"].isnull().sum())"
   ]
  },
  {
   "cell_type": "code",
   "execution_count": 37,
   "metadata": {},
   "outputs": [
    {
     "name": "stdout",
     "output_type": "stream",
     "text": [
      "Index(['ID', 'NAME', 'FORMAT', 'YEAR_BEGAN', 'YEAR_ENDED', 'PUBLICATION_DATES',\n",
      "       'FIRST_ISSUE_ID', 'LAST_ISSUE_ID', 'PUBLISHER_ID', 'COUNTRY_ID',\n",
      "       'LANGUAGE_ID', 'NOTES', 'COLOR', 'DIMENSIONS', 'PAPER_STOCK', 'BINDING',\n",
      "       'PUBLISHING_FORMAT', 'PUBLICATION_TYPE_ID'],\n",
      "      dtype='object')\n",
      "0\n"
     ]
    }
   ],
   "source": [
    "# Check participation for \"series_from\" relationship (Series <-> Country) :\n",
    "print(df_series.columns)\n",
    "print(df_series[\"COUNTRY_ID\"].isnull().sum())"
   ]
  },
  {
   "cell_type": "code",
   "execution_count": 29,
   "metadata": {},
   "outputs": [
    {
     "name": "stdout",
     "output_type": "stream",
     "text": [
      "Index(['ID', 'NAME', 'PUBLISHER_ID', 'COUNTRY_ID', 'YEAR_BEGAN', 'YEAR_ENDED',\n",
      "       'IS_SURROGATE', 'NOTES', 'URL'],\n",
      "      dtype='object')\n",
      "0\n",
      "3504\n"
     ]
    }
   ],
   "source": [
    "# Check participation for \"owned_by\" relationship (Indicia_Publisher <-> Publisher) :\n",
    "print(df_indicia.columns)\n",
    "print(df_indicia[\"PUBLISHER_ID\"].isnull().sum())\n",
    "print((~df_publisher[\"ID\"].isin(df_indicia[\"PUBLISHER_ID\"])).sum())"
   ]
  },
  {
   "cell_type": "code",
   "execution_count": 10,
   "metadata": {},
   "outputs": [
    {
     "name": "stdout",
     "output_type": "stream",
     "text": [
      "Index(['ID', 'NAME', 'COUNTRY_ID', 'YEAR_BEGAN', 'YEAR_ENDED', 'NOTES', 'URL'], dtype='object')\n",
      "0\n"
     ]
    }
   ],
   "source": [
    "# Check participation for \"publisher_from\" relationship (Publisher <-> Country) :\n",
    "print(df_publisher.columns)\n",
    "print(df_publisher[\"COUNTRY_ID\"].isnull().sum())"
   ]
  },
  {
   "cell_type": "code",
   "execution_count": 7,
   "metadata": {},
   "outputs": [
    {
     "name": "stdout",
     "output_type": "stream",
     "text": [
      "Index(['ID', 'NAME', 'YEAR_BEGAN', 'YEAR_ENDED', 'NOTES', 'URL',\n",
      "       'PUBLISHER_ID'],\n",
      "      dtype='object')\n",
      "0\n"
     ]
    }
   ],
   "source": [
    "# Check participation for \"held_by\" relationship (Brand_group <-> Publisher) :\n",
    "print(df_brand.columns)\n",
    "print(df_brand[\"PUBLISHER_ID\"].isnull().sum())"
   ]
  },
  {
   "cell_type": "code",
   "execution_count": 39,
   "metadata": {},
   "outputs": [
    {
     "name": "stdout",
     "output_type": "stream",
     "text": [
      "Index(['ID', 'NAME', 'FORMAT', 'YEAR_BEGAN', 'YEAR_ENDED', 'PUBLICATION_DATES',\n",
      "       'FIRST_ISSUE_ID', 'LAST_ISSUE_ID', 'PUBLISHER_ID', 'COUNTRY_ID',\n",
      "       'LANGUAGE_ID', 'NOTES', 'COLOR', 'DIMENSIONS', 'PAPER_STOCK', 'BINDING',\n",
      "       'PUBLISHING_FORMAT', 'PUBLICATION_TYPE_ID'],\n",
      "      dtype='object')\n",
      "0\n"
     ]
    }
   ],
   "source": [
    "# Check participation for \"produces\" relationship (Publisher <-> Series) :\n",
    "print(df_series.columns)\n",
    "print(df_series[\"PUBLISHER_ID\"].isnull().sum())"
   ]
  }
 ],
 "metadata": {
  "interpreter": {
   "hash": "c5b322d1f5beaecfb28b050f61b5bc2c682da0c88a01138942a1439f934c1c07"
  },
  "kernelspec": {
   "display_name": "Python 3.9.1 64-bit",
   "language": "python",
   "name": "python3"
  },
  "language_info": {
   "codemirror_mode": {
    "name": "ipython",
    "version": 3
   },
   "file_extension": ".py",
   "mimetype": "text/x-python",
   "name": "python",
   "nbconvert_exporter": "python",
   "pygments_lexer": "ipython3",
   "version": "3.9.1"
  },
  "orig_nbformat": 4
 },
 "nbformat": 4,
 "nbformat_minor": 2
}
